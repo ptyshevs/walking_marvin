{
 "cells": [
  {
   "cell_type": "code",
   "execution_count": 2,
   "metadata": {},
   "outputs": [],
   "source": [
    "import pickle as pcl\n",
    "import numpy as np\n",
    "import gym\n",
    "env = gym.make(\"Marvin-v0\")"
   ]
  },
  {
   "cell_type": "code",
   "execution_count": 3,
   "metadata": {},
   "outputs": [],
   "source": [
    "with open(\"trained_marvin.pcl\", 'rb') as f:\n",
    "    nn_weights = pcl.load(f)"
   ]
  },
  {
   "cell_type": "code",
   "execution_count": 4,
   "metadata": {},
   "outputs": [],
   "source": [
    "class NN:\n",
    "    def __init__(self, layer_sizes, seed=None):\n",
    "        if seed is not None:\n",
    "            np.random.seed(seed)\n",
    "        self.weights = [np.zeros((m, n)) * 1e-3 for m, n in zip(layer_sizes[1:], layer_sizes)]\n",
    "    \n",
    "    def predict(self, X):\n",
    "        out = X\n",
    "        for W in self.weights:\n",
    "            Z = out @ W.T\n",
    "            out = np.tanh(Z)\n",
    "        if out.shape[0] == 1 and len(out.shape) == 1:\n",
    "            return out.item()\n",
    "        return out\n",
    "\n",
    "    def set_weights(self, weights, copy=False):\n",
    "        if copy:\n",
    "            self.weights = [np.copy(l) for l in weights]\n",
    "        else:\n",
    "            self.weights = weights\n",
    "        \n",
    "    def get_weights(self, copy=False):\n",
    "        if copy:\n",
    "            return [np.copy(l) for l in self.weights]\n",
    "        return self.weights\n",
    "    \n",
    "    def sample_like(self, sigma=1):\n",
    "        return [np.random.randn(*l.shape) * sigma for l in self.weights]"
   ]
  },
  {
   "cell_type": "code",
   "execution_count": 5,
   "metadata": {},
   "outputs": [],
   "source": [
    "def render_env(model, env, max_iter=None, verbose=True):\n",
    "    observation = env.reset()\n",
    "    done = False\n",
    "    i = 0\n",
    "    r_sum = 0\n",
    "    while not done:\n",
    "        if (max_iter is not None and i >= max_iter):\n",
    "            break\n",
    "        env.render()\n",
    "        action = nn.predict(observation)\n",
    "        observation, reward, done, _ = env.step(action)\n",
    "#         print(f\"R={reward} | A={action}\")\n",
    "        i += 1\n",
    "        r_sum += reward\n",
    "    if verbose:\n",
    "        print(f\"Episode end after {i} iterations with reward = {r_sum} and done status {done}\")"
   ]
  },
  {
   "cell_type": "code",
   "execution_count": 6,
   "metadata": {},
   "outputs": [],
   "source": [
    "nn = NN([24, 24, 4])\n",
    "nn.set_weights(nn_weights)"
   ]
  },
  {
   "cell_type": "code",
   "execution_count": 7,
   "metadata": {},
   "outputs": [
    {
     "name": "stdout",
     "output_type": "stream",
     "text": [
      "Episode end after 1724 iterations with reward = 218.31647545943642 and done status True\n"
     ]
    }
   ],
   "source": [
    "render_env(nn, env, max_iter=2000)"
   ]
  }
 ],
 "metadata": {
  "kernelspec": {
   "display_name": "Python 3",
   "language": "python",
   "name": "python3"
  },
  "language_info": {
   "codemirror_mode": {
    "name": "ipython",
    "version": 3
   },
   "file_extension": ".py",
   "mimetype": "text/x-python",
   "name": "python",
   "nbconvert_exporter": "python",
   "pygments_lexer": "ipython3",
   "version": "3.7.4"
  }
 },
 "nbformat": 4,
 "nbformat_minor": 4
}
