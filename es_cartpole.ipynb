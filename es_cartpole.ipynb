{
 "cells": [
  {
   "cell_type": "code",
   "execution_count": 1,
   "metadata": {},
   "outputs": [],
   "source": [
    "from multilayer_perceptron.mlp.nn import *\n",
    "import gym\n",
    "env = gym.make('CartPole-v1')"
   ]
  },
  {
   "cell_type": "code",
   "execution_count": 2,
   "metadata": {},
   "outputs": [],
   "source": [
    "class NN:\n",
    "    def __init__(self, layer_sizes, seed=None):\n",
    "        if seed is not None:\n",
    "            np.random.seed(seed)\n",
    "        self.l = [(np.random.randn(m, n), np.zeros((m, 1))) for m, n in zip(layer_sizes[1:], layer_sizes)]\n",
    "    \n",
    "    def predict(self, X):\n",
    "        out = X\n",
    "        for W, b in self.l:\n",
    "            Z = X @ W.T + b.T\n",
    "            out = np.tanh(Z)\n",
    "        if out.shape[0] == 1:\n",
    "            return out.item()\n",
    "        return out\n",
    "\n",
    "    def set_params(self, params):\n",
    "        self.l = params"
   ]
  },
  {
   "cell_type": "code",
   "execution_count": 3,
   "metadata": {},
   "outputs": [],
   "source": [
    "nn = NN([4, 4, 1])"
   ]
  },
  {
   "cell_type": "code",
   "execution_count": 4,
   "metadata": {},
   "outputs": [
    {
     "data": {
      "text/plain": [
       "1.0"
      ]
     },
     "execution_count": 4,
     "metadata": {},
     "output_type": "execute_result"
    }
   ],
   "source": [
    "nn.predict(env.observation_space.sample().reshape(1, -1))"
   ]
  },
  {
   "cell_type": "code",
   "execution_count": 5,
   "metadata": {},
   "outputs": [
    {
     "data": {
      "text/plain": [
       "Discrete(2)"
      ]
     },
     "execution_count": 5,
     "metadata": {},
     "output_type": "execute_result"
    }
   ],
   "source": [
    "env.action_space"
   ]
  },
  {
   "cell_type": "code",
   "execution_count": 6,
   "metadata": {},
   "outputs": [
    {
     "data": {
      "text/plain": [
       "1"
      ]
     },
     "execution_count": 6,
     "metadata": {},
     "output_type": "execute_result"
    }
   ],
   "source": [
    "env.action_space.sample()"
   ]
  },
  {
   "cell_type": "code",
   "execution_count": 7,
   "metadata": {},
   "outputs": [],
   "source": [
    "def deep_copy(params):\n",
    "    return [(np.copy(W), np.copy(b)) for (W, b) in params]"
   ]
  },
  {
   "cell_type": "code",
   "execution_count": 8,
   "metadata": {},
   "outputs": [],
   "source": [
    "def params_perturbation(params, sigma=0.1, seed=None):\n",
    "    \"\"\"\n",
    "    Obtain weights perturbation for the whole network architecture\n",
    "    \"\"\"\n",
    "    if seed is not None:\n",
    "        np.random.seed(42)\n",
    "    return [(np.random.randn(*W.shape) * sigma, np.random.randn(*b.shape) * sigma) for W, b in params]"
   ]
  },
  {
   "cell_type": "code",
   "execution_count": 9,
   "metadata": {},
   "outputs": [],
   "source": [
    "def combine_weights(params, delta_params):\n",
    "    return [(W + dW, b + db) for ((W, b), (dW, db)) in zip(params, delta_params)]"
   ]
  },
  {
   "cell_type": "code",
   "execution_count": 10,
   "metadata": {},
   "outputs": [],
   "source": [
    "def evaluate_model(nn, env, max_iter=1000, verbose=False):\n",
    "    observation = env.reset()\n",
    "    done = False\n",
    "    i = 0\n",
    "    r_sum = 0\n",
    "    while not done and i < max_iter:\n",
    "        observation, reward, done, _ = env.step(int(nn.predict(observation) > 0))\n",
    "        i += 1\n",
    "        r_sum += reward\n",
    "    if verbose:\n",
    "        print(f\"Episode end after {i} iterations with reward = {r_sum} and done status {done}\")\n",
    "    return r_sum"
   ]
  },
  {
   "cell_type": "code",
   "execution_count": 11,
   "metadata": {},
   "outputs": [],
   "source": [
    "n = 20\n",
    "lr = 0.03\n",
    "sigma = 0.1"
   ]
  },
  {
   "cell_type": "code",
   "execution_count": 12,
   "metadata": {},
   "outputs": [],
   "source": [
    "def update_params(params, population, rewards, learning_rate=0.05, sigma=0.1):\n",
    "    \"\"\"\n",
    "    Inplace update of parameters\n",
    "    \"\"\"\n",
    "    n = len(population)\n",
    "    for candidate, reward in zip(population, rewards):\n",
    "        for i in range(len(params)):\n",
    "            W, b = params[i]\n",
    "            dW, db = candidate[i]\n",
    "            W_new =  W + learning_rate / (n * sigma) * reward * dW\n",
    "#             b_new = b + learning_rate / (n * sigma) * reward * db\n",
    "            b_new = b\n",
    "            params[i] = (W_new, b_new)"
   ]
  },
  {
   "cell_type": "code",
   "execution_count": 13,
   "metadata": {},
   "outputs": [],
   "source": [
    "def generation_update(model, environment, sigma=0.1, lr=0.01, population_size=10, seed=None, normalize_rewards=True):\n",
    "    original_params = deep_copy(model.l)\n",
    "    \n",
    "    if seed is not None:\n",
    "        np.random.seed(seed)\n",
    "\n",
    "    population = []\n",
    "    rewards = []\n",
    "    for i in range(population_size):\n",
    "        candidate = params_perturbation(original_params, sigma=sigma)\n",
    "        modified_params = combine_weights(original_params, candidate)\n",
    "        model.set_params(modified_params)\n",
    "        reward = evaluate_model(model, environment)\n",
    "        population.append(candidate)\n",
    "        rewards.append(reward)\n",
    "\n",
    "    rewards = np.array(rewards)\n",
    "    r_mean, r_std = rewards.mean(), rewards.std()\n",
    "    if normalize_rewards:\n",
    "        rewards = (rewards - r_mean) / (r_std + 1e-9)\n",
    "        \n",
    "    update_params(original_params, population, rewards, learning_rate=lr, sigma=sigma)\n",
    "    model.set_params(deep_copy(original_params))\n",
    "    return r_mean, r_std"
   ]
  },
  {
   "cell_type": "code",
   "execution_count": 14,
   "metadata": {},
   "outputs": [],
   "source": [
    "def render_env(model, env, max_iter=None, verbose=True):\n",
    "    observation = env.reset()\n",
    "    done = False\n",
    "    i = 0\n",
    "    r_sum = 0\n",
    "    while not done or (max_iter is not None and i < max_iter):\n",
    "        env.render()\n",
    "        observation, reward, done, _ = env.step(int(nn.predict(observation) > 0))\n",
    "        i += 1\n",
    "        r_sum += reward\n",
    "    if verbose:\n",
    "        print(f\"Episode end after {i} iterations with reward = {r_sum} and done status {done}\")"
   ]
  },
  {
   "cell_type": "code",
   "execution_count": 15,
   "metadata": {},
   "outputs": [
    {
     "name": "stdout",
     "output_type": "stream",
     "text": [
      "0 9.0 0.5477225575051661\n",
      "10 9.1 0.7681145747868608\n",
      "20 9.15 0.5722761571129799\n",
      "30 9.35 0.6538348415311012\n",
      "40 8.95 0.6689544080129827\n",
      "50 9.3 0.9539392014169455\n",
      "60 9.1 0.8306623862918076\n",
      "70 9.15 0.7262919523166976\n",
      "80 9.15 0.6538348415311009\n",
      "90 9.25 0.6224949798994366\n"
     ]
    }
   ],
   "source": [
    "for i in range(100):\n",
    "    mean_rewards, std_rewards = generation_update(nn, env, population_size=20, sigma=0.1, lr=0.03, normalize_rewards=True)\n",
    "    if i % 10 == 0:\n",
    "        print(i, mean_rewards, std_rewards)\n",
    "    if mean_rewards > 1000:\n",
    "        break"
   ]
  },
  {
   "cell_type": "code",
   "execution_count": 16,
   "metadata": {},
   "outputs": [
    {
     "name": "stdout",
     "output_type": "stream",
     "text": [
      "Episode end after 8 iterations with reward = 8.0 and done status True\n"
     ]
    }
   ],
   "source": [
    "render_env(nn, env)"
   ]
  }
 ],
 "metadata": {
  "kernelspec": {
   "display_name": "Python 3",
   "language": "python",
   "name": "python3"
  },
  "language_info": {
   "codemirror_mode": {
    "name": "ipython",
    "version": 3
   },
   "file_extension": ".py",
   "mimetype": "text/x-python",
   "name": "python",
   "nbconvert_exporter": "python",
   "pygments_lexer": "ipython3",
   "version": "3.6.8"
  }
 },
 "nbformat": 4,
 "nbformat_minor": 4
}
