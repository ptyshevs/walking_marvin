{
 "cells": [
  {
   "cell_type": "code",
   "execution_count": 1,
   "metadata": {},
   "outputs": [],
   "source": [
    "import numpy as np\n",
    "import gym\n",
    "env = gym.make('Marvin-v0')"
   ]
  },
  {
   "cell_type": "code",
   "execution_count": 2,
   "metadata": {},
   "outputs": [],
   "source": [
    "import psutil\n",
    "import ray"
   ]
  },
  {
   "cell_type": "code",
   "execution_count": 3,
   "metadata": {},
   "outputs": [
    {
     "name": "stderr",
     "output_type": "stream",
     "text": [
      "2019-10-05 13:44:09,888\tINFO resource_spec.py:205 -- Starting Ray with 3.96 GiB memory available for workers and up to 4.0 GiB for objects. You can adjust these settings with ray.init(memory=<bytes>, object_store_memory=<bytes>).\n"
     ]
    },
    {
     "data": {
      "text/plain": [
       "{'node_ip_address': '10.111.6.11',\n",
       " 'redis_address': '10.111.6.11:53133',\n",
       " 'object_store_address': '/tmp/ray/session_2019-10-05_13-44-09_840503_39519/sockets/plasma_store',\n",
       " 'raylet_socket_name': '/tmp/ray/session_2019-10-05_13-44-09_840503_39519/sockets/raylet',\n",
       " 'webui_url': None,\n",
       " 'session_dir': '/tmp/ray/session_2019-10-05_13-44-09_840503_39519'}"
      ]
     },
     "execution_count": 3,
     "metadata": {},
     "output_type": "execute_result"
    },
    {
     "name": "stdout",
     "output_type": "stream",
     "text": [
      "\u001b[2m\u001b[33m(pid=raylet)\u001b[0m E1005 13:44:10.205116 2806375232 io.cc:168] Connection to IPC socket failed for pathname /tmp/ray/session_2019-10-05_13-44-09_840503_39519/sockets/plasma_store, retrying 300 more times\n"
     ]
    }
   ],
   "source": [
    "ray.init(memory=4 * 1024 * 1024 * 1024, object_store_memory=4 * 1024 * 1024 * 1024)"
   ]
  },
  {
   "cell_type": "code",
   "execution_count": 4,
   "metadata": {},
   "outputs": [],
   "source": [
    "class NN:\n",
    "    def __init__(self, layer_sizes, seed=None):\n",
    "        if seed is not None:\n",
    "            np.random.seed(seed)\n",
    "        self.weights = [np.zeros((m, n)) * 1e-3 for m, n in zip(layer_sizes[1:], layer_sizes)]\n",
    "    \n",
    "    def predict(self, X):\n",
    "        out = X\n",
    "        for W in self.weights:\n",
    "            Z = out @ W.T\n",
    "            out = np.tanh(Z)\n",
    "        if out.shape[0] == 1 and len(out.shape) == 1:\n",
    "            return out.item()\n",
    "        return out\n",
    "\n",
    "    def set_weights(self, weights, copy=False):\n",
    "        if copy:\n",
    "            self.weights = [np.copy(l) for l in weights]\n",
    "        else:\n",
    "            self.weights = weights\n",
    "        \n",
    "    def get_weights(self, copy=False):\n",
    "        if copy:\n",
    "            return [np.copy(l) for l in self.weights]\n",
    "        return self.weights\n",
    "    \n",
    "    def sample_like(self, sigma=1.0):\n",
    "        return [np.random.randn(*l.shape) * sigma for l in self.weights]"
   ]
  },
  {
   "cell_type": "code",
   "execution_count": 5,
   "metadata": {},
   "outputs": [],
   "source": [
    "def sample_like(weights, sigma=1, rs=None):\n",
    "    \"\"\"\n",
    "    Create a sample of the same shapes as the input\n",
    "    @param weights: list of np.arrays\n",
    "    \"\"\"\n",
    "    \n",
    "    if rs is None:\n",
    "        rs = np.random\n",
    "    \n",
    "    return [rs.randn(*l.shape) * sigma for l in weights]\n",
    "\n",
    "\n",
    "def combine_weights(params, delta_params, sigma):\n",
    "    return [W + dW * sigma for W, dW in zip(params, delta_params)]"
   ]
  },
  {
   "cell_type": "code",
   "execution_count": 6,
   "metadata": {},
   "outputs": [],
   "source": [
    "def evaluate_model(model, env):\n",
    "    \n",
    "    observation = env.reset()\n",
    "    done = False\n",
    "    i = 0\n",
    "    r_sum = 0\n",
    "    while not done and i < 1500:\n",
    "        action = model.predict(observation)\n",
    "        observation, reward, done, _ = env.step(action)\n",
    "        i += 1\n",
    "        r_sum += reward\n",
    "    return r_sum\n",
    "\n",
    "def update_params(params, population, rewards, lr=0.05, sigma=0.1):\n",
    "    \"\"\"\n",
    "    Inplace update of parameters\n",
    "    \"\"\"\n",
    "    n = len(population)\n",
    "    for i in range(len(params)):\n",
    "        W = params[i]\n",
    "        \n",
    "        dW_accum = np.zeros_like(W)\n",
    "        for candidate, reward in zip(population, rewards):\n",
    "            dW = candidate[i]\n",
    "            dW_accum += reward * dW\n",
    "        W_new = W + lr / (n * sigma) * dW_accum\n",
    "        params[i] = W_new\n",
    "    return params"
   ]
  },
  {
   "cell_type": "code",
   "execution_count": null,
   "metadata": {},
   "outputs": [],
   "source": [
    "@ray.remote(num_gpus=0.01, num_cpus=0)\n",
    "class ESWorker:\n",
    "    def __init__(self, layer_sizes, init_seed, env_name, seed, sigma=.1):\n",
    "        self.model = NN(layer_sizes, init_seed)\n",
    "        self.env = gym.make(env_name)\n",
    "        self.rs = np.random.RandomState(seed=seed)\n",
    "        self.sigma = sigma\n",
    "    \n",
    "    def evaluate(self):\n",
    "        \n",
    "        candidate = sample_like(self.model.weights, rs=self.rs)\n",
    "        self.model.set_weights(combine_weights(self.model.get_weights(), candidate, self.sigma))\n",
    "        reward = evaluate_model(self.model, self.env)\n",
    "        return reward\n",
    "    \n",
    "    def update(self, weights):\n",
    "        self.model.set_weights(weights, copy=True)"
   ]
  },
  {
   "cell_type": "code",
   "execution_count": null,
   "metadata": {},
   "outputs": [],
   "source": [
    "\n",
    "class ESRaySolver:\n",
    "    def __init__(self, model, environment, population_size=30, max_episode_len=1500,\n",
    "                 lr=0.05, lr_decay=0.999, sigma=0.1, verbose=False):\n",
    "        self.model = model\n",
    "        self.env = environment\n",
    "        self.population_size = population_size\n",
    "        self.max_episode_len = max_episode_len\n",
    "        self.lr = lr\n",
    "        self.lr_decay = lr_decay\n",
    "        self.sigma = sigma\n",
    "        self.verbose = verbose\n",
    "        self.w_seeds = [seed for seed in range(population_size)]\n",
    "        self.w_rss = [np.random.RandomState(seed=seed) for seed in self.w_seeds]\n",
    "        self.workers = [ESWorker.remote([24, 24, 4], 0, 'Marvin-v0', seed) for seed in self.w_seeds]  # actor handles\n",
    "    \n",
    "    def solve(self, weights=None, fitness_fn=None, n_generations=100, seed=None):\n",
    "        \"\"\"\n",
    "        If weights is none, simple MLP is assumed, otherwise this should be the list of weights matrices from some model\n",
    "        \"\"\"\n",
    "        if weights is None:\n",
    "            weights = self.model.get_weights(copy=True)\n",
    "        if fitness_fn is None:\n",
    "            fitness_fn = evaluate_model\n",
    "\n",
    "        if seed is not None:\n",
    "            np.random.seed(seed)\n",
    "\n",
    "        lr = self.lr\n",
    "\n",
    "\n",
    "        \n",
    "        for generation in range(n_generations):\n",
    "    \n",
    "            rewards = [ray.get(w.evaluate.remote()) for w in self.workers]\n",
    "            population = [sample_like(weights, rs=rs) for rs in self.w_rss]\n",
    "\n",
    "            rewards = np.array(rewards)\n",
    "            r_mean, r_std = rewards.mean(), rewards.std()\n",
    "            rewards = (rewards - r_mean) / r_std\n",
    "            \n",
    "            update_params(weights, population, rewards, lr=lr, sigma=self.sigma)\n",
    "            [ray.get(w.update.remote(weights)) for w in self.workers]\n",
    "        \n",
    "            lr = lr * self.lr_decay\n",
    "            if self.verbose and (generation % int(self.verbose) == 0):\n",
    "                print(f'[{generation}]: E[R]={r_mean:.4f}, std(R)={r_std:.4f} | lr={lr:.4f}')\n",
    "        return weights\n"
   ]
  },
  {
   "cell_type": "code",
   "execution_count": null,
   "metadata": {},
   "outputs": [],
   "source": [
    "nn = NN([24, 24, 4], 0)\n",
    "es = ESRaySolver(nn, env, population_size=50, lr=0.03, verbose=5)\n",
    "weights = es.solve(n_generations=300)"
   ]
  }
 ],
 "metadata": {
  "kernelspec": {
   "display_name": "Python 3",
   "language": "python",
   "name": "python3"
  },
  "language_info": {
   "codemirror_mode": {
    "name": "ipython",
    "version": 3
   },
   "file_extension": ".py",
   "mimetype": "text/x-python",
   "name": "python",
   "nbconvert_exporter": "python",
   "pygments_lexer": "ipython3",
   "version": "3.7.4"
  }
 },
 "nbformat": 4,
 "nbformat_minor": 4
}
