{
 "cells": [
  {
   "cell_type": "code",
   "execution_count": null,
   "metadata": {},
   "outputs": [],
   "source": [
    "import multiprocessing as mp\n",
    "import scipy"
   ]
  },
  {
   "cell_type": "code",
   "execution_count": null,
   "metadata": {},
   "outputs": [],
   "source": [
    "def work(start_weights, sigma):\n",
    "    global nn, env\n",
    "    scipy.random.seed()\n",
    "    candidate = params_perturbation(start_weights, sigma=sigma)\n",
    "    modified_params = combine_weights(start_weights, candidate)\n",
    "    nn.set_params(modified_params)\n",
    "    reward = evaluate_model(nn, env, verbose=False)\n",
    "    return candidate, reward"
   ]
  },
  {
   "cell_type": "code",
   "execution_count": null,
   "metadata": {},
   "outputs": [],
   "source": [
    "def generation_update_mp(model, environment, pool, sigma=0.1, lr=0.01, population_size=10, seed=None, normalize_rewards=True):\n",
    "    original_params = deep_copy(model.l)\n",
    "    \n",
    "    if seed is not None:\n",
    "        np.random.seed(seed)\n",
    "\n",
    "    population = []\n",
    "    rewards = []\n",
    "    tasks = [(original_params, sigma) for i in range(population_size)]\n",
    "    results = pool.starmap(work, tasks)\n",
    "    population = [p[0] for p in results]\n",
    "    rewards = [p[1] for p in results]\n",
    "\n",
    "    rewards = np.array(rewards)\n",
    "    r_mean, r_std = rewards.mean(), rewards.std()\n",
    "    if normalize_rewards:\n",
    "        rewards = (rewards - r_mean) / (r_std + 1e-9)\n",
    "        \n",
    "    update_params(original_params, population, rewards, learning_rate=lr, sigma=sigma)\n",
    "    model.set_params(deep_copy(original_params))\n",
    "    return r_mean, r_std"
   ]
  },
  {
   "cell_type": "code",
   "execution_count": null,
   "metadata": {},
   "outputs": [],
   "source": [
    "pool = mp.Pool(mp.cpu_count())"
   ]
  }
 ],
 "metadata": {
  "kernelspec": {
   "display_name": "Python 3",
   "language": "python",
   "name": "python3"
  },
  "language_info": {
   "codemirror_mode": {
    "name": "ipython",
    "version": 3
   },
   "file_extension": ".py",
   "mimetype": "text/x-python",
   "name": "python",
   "nbconvert_exporter": "python",
   "pygments_lexer": "ipython3",
   "version": "3.6.8"
  }
 },
 "nbformat": 4,
 "nbformat_minor": 4
}
