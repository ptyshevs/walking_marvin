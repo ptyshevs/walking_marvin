{
 "cells": [
  {
   "cell_type": "code",
   "execution_count": null,
   "metadata": {},
   "outputs": [],
   "source": [
    "import numpy as np\n",
    "from evostra import EvolutionStrategy\n",
    "from evostra.models import FeedForwardNetwork\n",
    "import gym\n",
    "env = gym.make('Marvin-v0')\n",
    "# A feed forward neural network with input size of 5, two hidden layers of size 4 and output of size 3\n",
    "model = FeedForwardNetwork(layer_sizes=[24, 24, 24, 4])"
   ]
  },
  {
   "cell_type": "code",
   "execution_count": null,
   "metadata": {},
   "outputs": [],
   "source": [
    "def evaluate_model(weights, max_iter=10000, verbose=False):\n",
    "    global model, env\n",
    "    model.set_weights(weights)\n",
    "    observation = env.reset()\n",
    "    done = False\n",
    "    i = 0\n",
    "    r_sum = 0\n",
    "    while not done and i < max_iter:\n",
    "        pred = model.predict(observation)\n",
    "        observation, reward, done, _ = env.step(pred)\n",
    "        i += 1\n",
    "        r_sum += reward\n",
    "    if verbose:\n",
    "        print(f\"Episode end after {i} iterations with reward = {r_sum} and done status {done}\")\n",
    "    return r_sum"
   ]
  },
  {
   "cell_type": "code",
   "execution_count": null,
   "metadata": {},
   "outputs": [],
   "source": [
    "# if your task is computationally expensive, you can use num_threads > 1 to use multiple processes;\n",
    "# if you set num_threads=-1, it will use number of cores available on the machine; Here we use 1 process as the\n",
    "#  task is not computationally expensive and using more processes would decrease the performance due to the IPC overhead.\n",
    "es = EvolutionStrategy(model.get_weights(), evaluate_model, population_size=20, sigma=0.1, learning_rate=0.03, decay=0.995, num_threads=-1)\n",
    "es.run(100, print_step=1)"
   ]
  },
  {
   "cell_type": "code",
   "execution_count": null,
   "metadata": {},
   "outputs": [],
   "source": [
    "def render_env(model, env, max_iter=None, verbose=True):\n",
    "    observation = env.reset()\n",
    "    done = False\n",
    "    i = 0\n",
    "    r_sum = 0\n",
    "    while not done or (max_iter is not None and i < max_iter):\n",
    "        env.render()\n",
    "        observation, reward, done, _ = env.step(model.predict(observation))\n",
    "        i += 1\n",
    "        r_sum += reward\n",
    "    if verbose:\n",
    "        print(f\"Episode end after {i} iterations with reward = {r_sum} and done status {done}\")"
   ]
  },
  {
   "cell_type": "code",
   "execution_count": null,
   "metadata": {},
   "outputs": [],
   "source": [
    "render_env(model, env)"
   ]
  }
 ],
 "metadata": {
  "kernelspec": {
   "display_name": "Python 3",
   "language": "python",
   "name": "python3"
  },
  "language_info": {
   "codemirror_mode": {
    "name": "ipython",
    "version": 3
   },
   "file_extension": ".py",
   "mimetype": "text/x-python",
   "name": "python",
   "nbconvert_exporter": "python",
   "pygments_lexer": "ipython3",
   "version": "3.6.8"
  }
 },
 "nbformat": 4,
 "nbformat_minor": 4
}
