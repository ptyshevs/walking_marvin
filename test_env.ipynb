{
 "cells": [
  {
   "cell_type": "code",
   "execution_count": 1,
   "metadata": {},
   "outputs": [],
   "source": [
    "import gym\n",
    "env = gym.make('Marvin-v0')"
   ]
  },
  {
   "cell_type": "code",
   "execution_count": 2,
   "metadata": {},
   "outputs": [
    {
     "name": "stdout",
     "output_type": "stream",
     "text": [
      "Episode end after 170 iterations with reward = -133.88062215148472\n"
     ]
    }
   ],
   "source": [
    "init_observation = env.reset()\n",
    "done = False\n",
    "i = 0\n",
    "r_sum = 0\n",
    "while not done:\n",
    "    observation, reward, done, _ = env.step(env.action_space.sample())\n",
    "    i += 1\n",
    "    r_sum += reward\n",
    "print(f\"Episode end after {i} iterations with reward = {r_sum}\")"
   ]
  },
  {
   "cell_type": "code",
   "execution_count": 3,
   "metadata": {},
   "outputs": [
    {
     "data": {
      "text/plain": [
       "(array([-1., -1., -1., -1.], dtype=float32),\n",
       " array([1., 1., 1., 1.], dtype=float32))"
      ]
     },
     "execution_count": 3,
     "metadata": {},
     "output_type": "execute_result"
    }
   ],
   "source": [
    "env.action_space.low, env.action_space.high"
   ]
  },
  {
   "cell_type": "code",
   "execution_count": 4,
   "metadata": {},
   "outputs": [
    {
     "data": {
      "text/plain": [
       "(array([-inf, -inf, -inf, -inf, -inf, -inf, -inf, -inf, -inf, -inf, -inf,\n",
       "        -inf, -inf, -inf, -inf, -inf, -inf, -inf, -inf, -inf, -inf, -inf,\n",
       "        -inf, -inf], dtype=float32),\n",
       " array([inf, inf, inf, inf, inf, inf, inf, inf, inf, inf, inf, inf, inf,\n",
       "        inf, inf, inf, inf, inf, inf, inf, inf, inf, inf, inf],\n",
       "       dtype=float32))"
      ]
     },
     "execution_count": 4,
     "metadata": {},
     "output_type": "execute_result"
    }
   ],
   "source": [
    "env.observation_space.low, env.observation_space.high"
   ]
  },
  {
   "cell_type": "code",
   "execution_count": 5,
   "metadata": {},
   "outputs": [],
   "source": [
    "from multilayer_perceptron.mlp.nn import *"
   ]
  },
  {
   "cell_type": "code",
   "execution_count": 6,
   "metadata": {},
   "outputs": [],
   "source": [
    "nn = NeuralNetwork('mse', 'adam', random_state=42)\n",
    "nn.add(Dense(3, 'relu'))\n",
    "nn.add(Dense(4, 'tanh'))\n",
    "nn.compile(env.observation_space.shape[0])"
   ]
  },
  {
   "cell_type": "code",
   "execution_count": 7,
   "metadata": {},
   "outputs": [
    {
     "name": "stdout",
     "output_type": "stream",
     "text": [
      "|Dense(24, 3, relu)                \t|\t75\n",
      "|Dense(3, 4, tanh)                 \t|\t16\n",
      "=======================================================\n",
      "Total number of parameters:\t\t 91\n",
      "Total number of trainable params:\t 91\n"
     ]
    }
   ],
   "source": [
    "nn.summary()"
   ]
  },
  {
   "cell_type": "code",
   "execution_count": 8,
   "metadata": {},
   "outputs": [
    {
     "data": {
      "text/plain": [
       "[[array([[ 0.01355253,  0.01612121,  0.02178583,  0.00441266, -0.00191006,\n",
       "           0.00918371, -0.00345347,  0.0115566 ,  0.00353245,  0.02575615,\n",
       "           0.00704381, -0.02149307,  0.01023077,  0.00324853, -0.00298232,\n",
       "           0.00340093, -0.02068245,  0.00790484,  0.00320478, -0.0063767 ,\n",
       "          -0.00841096, -0.01773392,  0.00879417,  0.00732145],\n",
       "         [ 0.01687626,  0.01189374,  0.01282178,  0.01566677,  0.00179239,\n",
       "          -0.00729483, -0.00475361, -0.00361311,  0.00259407, -0.02435597,\n",
       "           0.01179155, -0.00211171,  0.0015397 ,  0.00159293, -0.00293244,\n",
       "           0.00060637, -0.00040726,  0.0032989 , -0.00821363, -0.00732216,\n",
       "           0.01700943, -0.0074014 , -0.01194719,  0.00668488],\n",
       "         [ 0.00084694, -0.00268574, -0.00911532,  0.00287715,  0.00043487,\n",
       "          -0.00073875,  0.00759685, -0.00161963,  0.00889213, -0.00174674,\n",
       "           0.02144417, -0.02454866,  0.01052558, -0.00041242, -0.01031607,\n",
       "           0.02009771,  0.00604797, -0.0063798 ,  0.00908616,  0.01058256,\n",
       "          -0.00643245, -0.00788537, -0.00578405, -0.01391142]]), array([[0.],\n",
       "         [0.],\n",
       "         [0.]])], [array([[-0.00882479,  0.0126511 ,  0.00358485],\n",
       "         [-0.01250996, -0.01130564,  0.0016371 ],\n",
       "         [-0.00155716,  0.00777246, -0.00267305],\n",
       "         [-0.00492321,  0.00989536,  0.0014645 ]]), array([[0.],\n",
       "         [0.],\n",
       "         [0.],\n",
       "         [0.]])]]"
      ]
     },
     "execution_count": 8,
     "metadata": {},
     "output_type": "execute_result"
    }
   ],
   "source": [
    "params = nn.get_params()\n",
    "params"
   ]
  },
  {
   "cell_type": "code",
   "execution_count": 12,
   "metadata": {},
   "outputs": [],
   "source": [
    "params[0][1][1] = 1"
   ]
  },
  {
   "cell_type": "code",
   "execution_count": null,
   "metadata": {},
   "outputs": [],
   "source": [
    "original_params = [[]]\n",
    "for layer_params in params:\n",
    "    original_params.np.copy()"
   ]
  },
  {
   "cell_type": "code",
   "execution_count": 13,
   "metadata": {},
   "outputs": [
    {
     "data": {
      "text/plain": [
       "[[array([[ 0.01355253,  0.01612121,  0.02178583,  0.00441266, -0.00191006,\n",
       "           0.00918371, -0.00345347,  0.0115566 ,  0.00353245,  0.02575615,\n",
       "           0.00704381, -0.02149307,  0.01023077,  0.00324853, -0.00298232,\n",
       "           0.00340093, -0.02068245,  0.00790484,  0.00320478, -0.0063767 ,\n",
       "          -0.00841096, -0.01773392,  0.00879417,  0.00732145],\n",
       "         [ 0.01687626,  0.01189374,  0.01282178,  0.01566677,  0.00179239,\n",
       "          -0.00729483, -0.00475361, -0.00361311,  0.00259407, -0.02435597,\n",
       "           0.01179155, -0.00211171,  0.0015397 ,  0.00159293, -0.00293244,\n",
       "           0.00060637, -0.00040726,  0.0032989 , -0.00821363, -0.00732216,\n",
       "           0.01700943, -0.0074014 , -0.01194719,  0.00668488],\n",
       "         [ 0.00084694, -0.00268574, -0.00911532,  0.00287715,  0.00043487,\n",
       "          -0.00073875,  0.00759685, -0.00161963,  0.00889213, -0.00174674,\n",
       "           0.02144417, -0.02454866,  0.01052558, -0.00041242, -0.01031607,\n",
       "           0.02009771,  0.00604797, -0.0063798 ,  0.00908616,  0.01058256,\n",
       "          -0.00643245, -0.00788537, -0.00578405, -0.01391142]]), array([[0.],\n",
       "         [1.],\n",
       "         [0.]])], [array([[-0.00882479,  0.0126511 ,  0.00358485],\n",
       "         [-0.01250996, -0.01130564,  0.0016371 ],\n",
       "         [-0.00155716,  0.00777246, -0.00267305],\n",
       "         [-0.00492321,  0.00989536,  0.0014645 ]]), array([[0.],\n",
       "         [0.],\n",
       "         [0.],\n",
       "         [0.]])]]"
      ]
     },
     "execution_count": 13,
     "metadata": {},
     "output_type": "execute_result"
    }
   ],
   "source": [
    "params"
   ]
  }
 ],
 "metadata": {
  "kernelspec": {
   "display_name": "Python 3",
   "language": "python",
   "name": "python3"
  },
  "language_info": {
   "codemirror_mode": {
    "name": "ipython",
    "version": 3
   },
   "file_extension": ".py",
   "mimetype": "text/x-python",
   "name": "python",
   "nbconvert_exporter": "python",
   "pygments_lexer": "ipython3",
   "version": "3.6.8"
  }
 },
 "nbformat": 4,
 "nbformat_minor": 4
}
