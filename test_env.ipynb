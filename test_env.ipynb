{
 "cells": [
  {
   "cell_type": "code",
   "execution_count": 1,
   "metadata": {},
   "outputs": [],
   "source": [
    "import gym\n",
    "env = gym.make('Marvin-v0')"
   ]
  },
  {
   "cell_type": "code",
   "execution_count": 6,
   "metadata": {},
   "outputs": [
    {
     "name": "stdout",
     "output_type": "stream",
     "text": [
      "Reward: -0.13762489892790833\n",
      "Reward: -0.20637878893315792\n",
      "Reward: -0.15790618913372242\n",
      "Reward: -0.3789379372497424\n",
      "Reward: -0.22475865572690965\n",
      "Reward: -0.1754904067913667\n",
      "Reward: -0.008812867005668468\n",
      "Reward: -0.03392187080780428\n",
      "Reward: -0.059097557783126836\n",
      "Reward: 0.007622751712799065\n",
      "Reward: -0.13394125441710272\n",
      "Reward: -0.31743144806225976\n",
      "Reward: -0.18690743261575699\n",
      "Reward: -0.1893915399238467\n",
      "Reward: 0.010843021909393478\n",
      "Reward: -0.18146576722462854\n",
      "Reward: -0.20371100234985354\n",
      "Reward: -0.13430123682816705\n",
      "Reward: -0.1717740759551525\n",
      "Reward: -0.2468811103105545\n",
      "Reward: -0.2877690143585205\n",
      "Reward: -0.2447798206806183\n",
      "Reward: -0.2647436904410533\n",
      "Reward: -0.22539074349403382\n",
      "Reward: -0.4860661972915587\n",
      "Reward: -0.2979118184447289\n",
      "Reward: -0.05417288200060645\n",
      "Reward: -0.14792812657356263\n",
      "Reward: -0.09387289760013302\n",
      "Reward: -0.13516389347612856\n",
      "Reward: -0.10304445588588713\n",
      "Reward: -0.23489382645487786\n",
      "Reward: -0.13558241494993487\n",
      "Reward: -0.17930668520927429\n",
      "Reward: -0.261553138140589\n",
      "Reward: -0.17881204752127447\n",
      "Reward: -0.23626388131578643\n",
      "Reward: -0.06239636659622193\n",
      "Reward: 0.051061039991676806\n",
      "Reward: -0.1790732031265906\n",
      "Reward: -0.24685107030471046\n",
      "Reward: -0.19124997175236425\n",
      "Reward: -0.22795832920074463\n",
      "Reward: -0.35293801456689833\n",
      "Reward: -0.4355913065671921\n",
      "Reward: -0.31459294219936046\n",
      "Reward: -0.27909004054467007\n",
      "Reward: -0.1382990034836476\n",
      "Reward: -0.2624280664523466\n",
      "Reward: -0.33841103198130806\n",
      "Reward: -0.29990966081619264\n",
      "Reward: -0.16999518710374834\n",
      "Reward: -0.1770954186518975\n",
      "Reward: -0.1285880363583565\n",
      "Reward: -0.04704448791345198\n",
      "Reward: -0.0682281045118944\n",
      "Reward: -0.001348453402519224\n",
      "Reward: 0.06034836753209313\n",
      "Reward: -0.019100637808442116\n",
      "Reward: -0.031473297715187074\n",
      "Reward: -0.03625050135453424\n",
      "Reward: -0.2539536080757789\n",
      "Reward: -0.3545142497022935\n",
      "Reward: -0.2968657061060275\n",
      "Reward: -0.2874774265289307\n",
      "Reward: -0.15736918230851552\n",
      "Reward: -0.17098996321360213\n",
      "Reward: -0.24042158690094947\n",
      "Reward: -0.1381994495789222\n",
      "Reward: -0.03055913066864014\n",
      "Reward: -0.03545769784847836\n",
      "Reward: 0.0398972255786266\n",
      "Reward: 0.1323054461379834\n",
      "Reward: 0.11634032511711119\n",
      "Reward: 0.14674984979629513\n",
      "Reward: 0.057567190249761535\n",
      "Reward: 0.07305553286274155\n",
      "Reward: -0.039989285618066785\n",
      "Reward: -0.03264331717292408\n",
      "Reward: -0.12696537129084212\n",
      "Reward: -0.1420166272719707\n",
      "Reward: 0.032516132275264654\n",
      "Reward: 0.015361949960390135\n",
      "Reward: -0.05460590227445026\n",
      "Reward: -0.17223748966057978\n",
      "Reward: -0.08190315534671207\n",
      "Reward: -0.19971648364265818\n",
      "Reward: -0.194721342603365\n",
      "Reward: -0.051329576174417545\n",
      "Reward: -0.08643302925924579\n",
      "Reward: 0.03575151686370373\n",
      "Reward: -0.1331727549433708\n",
      "Reward: -0.12938417665163615\n",
      "Reward: -0.1371175363510847\n",
      "Reward: -0.13860817009955645\n",
      "Reward: -0.10246950380007366\n",
      "Reward: -0.0537192850112915\n",
      "Reward: -0.09780705038706579\n",
      "Reward: -0.09430794760584832\n",
      "Reward: -0.09683635131517987\n"
     ]
    }
   ],
   "source": [
    "env.reset()\n",
    "for _ in range(100):\n",
    "    env.render()\n",
    "    observation, reward, done, info = env.step(env.action_space.sample())\n",
    "    if done:\n",
    "        print(\"Finished\")\n",
    "        break\n",
    "    print(f\"Reward: {reward}\")\n",
    "env.close()"
   ]
  },
  {
   "cell_type": "code",
   "execution_count": 11,
   "metadata": {},
   "outputs": [
    {
     "data": {
      "text/plain": [
       "(array([-1., -1., -1., -1.], dtype=float32),\n",
       " array([1., 1., 1., 1.], dtype=float32))"
      ]
     },
     "execution_count": 11,
     "metadata": {},
     "output_type": "execute_result"
    }
   ],
   "source": [
    "env.action_space.low, env.action_space.high"
   ]
  },
  {
   "cell_type": "code",
   "execution_count": 13,
   "metadata": {},
   "outputs": [
    {
     "data": {
      "text/plain": [
       "(array([-inf, -inf, -inf, -inf, -inf, -inf, -inf, -inf, -inf, -inf, -inf,\n",
       "        -inf, -inf, -inf, -inf, -inf, -inf, -inf, -inf, -inf, -inf, -inf,\n",
       "        -inf, -inf], dtype=float32),\n",
       " array([inf, inf, inf, inf, inf, inf, inf, inf, inf, inf, inf, inf, inf,\n",
       "        inf, inf, inf, inf, inf, inf, inf, inf, inf, inf, inf],\n",
       "       dtype=float32))"
      ]
     },
     "execution_count": 13,
     "metadata": {},
     "output_type": "execute_result"
    }
   ],
   "source": [
    "env.observation_space.low, env.observation_space.high"
   ]
  }
 ],
 "metadata": {
  "kernelspec": {
   "display_name": "Python 3",
   "language": "python",
   "name": "python3"
  },
  "language_info": {
   "codemirror_mode": {
    "name": "ipython",
    "version": 3
   },
   "file_extension": ".py",
   "mimetype": "text/x-python",
   "name": "python",
   "nbconvert_exporter": "python",
   "pygments_lexer": "ipython3",
   "version": "3.6.8"
  }
 },
 "nbformat": 4,
 "nbformat_minor": 4
}
