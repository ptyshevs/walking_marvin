{
 "cells": [
  {
   "cell_type": "code",
   "execution_count": 1,
   "metadata": {},
   "outputs": [],
   "source": [
    "import numpy as np\n",
    "from evostra import EvolutionStrategy\n",
    "from evostra.models import FeedForwardNetwork\n",
    "import gym\n",
    "env = gym.make('CartPole-v1')\n",
    "# A feed forward neural network with input size of 5, two hidden layers of size 4 and output of size 3\n",
    "model = FeedForwardNetwork(layer_sizes=[4, 4, 4, 1])"
   ]
  },
  {
   "cell_type": "code",
   "execution_count": 2,
   "metadata": {},
   "outputs": [],
   "source": [
    "solution = np.array([0.1, -0.4, 0.5])\n",
    "inp = np.asarray([1, 2, 3, 4, 5])\n",
    "\n",
    "def evaluate_model(weights, max_iter=100, verbose=False):\n",
    "    global model, env\n",
    "    model.set_weights(weights)\n",
    "    observation = env.reset()\n",
    "    done = False\n",
    "    i = 0\n",
    "    r_sum = 0\n",
    "    while not done and i < max_iter:\n",
    "        observation, reward, done, _ = env.step(int(model.predict(observation)[0] > .5))\n",
    "        i += 1\n",
    "        r_sum += reward\n",
    "    if verbose:\n",
    "        print(f\"Episode end after {i} iterations with reward = {r_sum} and done status {done}\")\n",
    "    return r_sum"
   ]
  },
  {
   "cell_type": "code",
   "execution_count": 3,
   "metadata": {},
   "outputs": [
    {
     "data": {
      "text/plain": [
       "[(4, 4), (4, 4), (4, 1)]"
      ]
     },
     "execution_count": 3,
     "metadata": {},
     "output_type": "execute_result"
    }
   ],
   "source": [
    "[l.shape for l in model.get_weights()]"
   ]
  },
  {
   "cell_type": "code",
   "execution_count": 4,
   "metadata": {},
   "outputs": [
    {
     "name": "stdout",
     "output_type": "stream",
     "text": [
      "iter 10. reward: 10.000000\n",
      "iter 20. reward: 10.000000\n",
      "iter 30. reward: 9.000000\n",
      "iter 40. reward: 8.000000\n",
      "iter 50. reward: 36.000000\n",
      "iter 60. reward: 30.000000\n",
      "iter 70. reward: 100.000000\n",
      "iter 80. reward: 41.000000\n",
      "iter 90. reward: 41.000000\n",
      "iter 100. reward: 80.000000\n",
      "iter 110. reward: 65.000000\n",
      "iter 120. reward: 100.000000\n",
      "iter 130. reward: 100.000000\n",
      "iter 140. reward: 100.000000\n",
      "iter 150. reward: 100.000000\n",
      "iter 160. reward: 100.000000\n",
      "iter 170. reward: 100.000000\n",
      "iter 180. reward: 100.000000\n",
      "iter 190. reward: 100.000000\n",
      "iter 200. reward: 100.000000\n",
      "iter 210. reward: 100.000000\n",
      "iter 220. reward: 100.000000\n",
      "iter 230. reward: 100.000000\n",
      "iter 240. reward: 100.000000\n",
      "iter 250. reward: 100.000000\n",
      "iter 260. reward: 100.000000\n",
      "iter 270. reward: 100.000000\n",
      "iter 280. reward: 100.000000\n",
      "iter 290. reward: 100.000000\n",
      "iter 300. reward: 100.000000\n",
      "iter 310. reward: 100.000000\n",
      "iter 320. reward: 100.000000\n",
      "iter 330. reward: 100.000000\n",
      "iter 340. reward: 100.000000\n",
      "iter 350. reward: 100.000000\n",
      "iter 360. reward: 100.000000\n",
      "iter 370. reward: 100.000000\n",
      "iter 380. reward: 100.000000\n",
      "iter 390. reward: 100.000000\n",
      "iter 400. reward: 100.000000\n",
      "iter 410. reward: 100.000000\n",
      "iter 420. reward: 100.000000\n",
      "iter 430. reward: 100.000000\n",
      "iter 440. reward: 100.000000\n",
      "iter 450. reward: 100.000000\n",
      "iter 460. reward: 100.000000\n",
      "iter 470. reward: 100.000000\n",
      "iter 480. reward: 100.000000\n",
      "iter 490. reward: 100.000000\n",
      "iter 500. reward: 100.000000\n",
      "iter 510. reward: 100.000000\n",
      "iter 520. reward: 100.000000\n",
      "iter 530. reward: 100.000000\n",
      "iter 540. reward: 100.000000\n",
      "iter 550. reward: 100.000000\n",
      "iter 560. reward: 100.000000\n",
      "iter 570. reward: 100.000000\n",
      "iter 580. reward: 100.000000\n",
      "iter 590. reward: 100.000000\n",
      "iter 600. reward: 100.000000\n",
      "iter 610. reward: 100.000000\n",
      "iter 620. reward: 100.000000\n",
      "iter 630. reward: 100.000000\n",
      "iter 640. reward: 100.000000\n",
      "iter 650. reward: 100.000000\n",
      "iter 660. reward: 100.000000\n",
      "iter 670. reward: 100.000000\n",
      "iter 680. reward: 100.000000\n",
      "iter 690. reward: 100.000000\n",
      "iter 700. reward: 100.000000\n",
      "iter 710. reward: 100.000000\n",
      "iter 720. reward: 100.000000\n",
      "iter 730. reward: 100.000000\n",
      "iter 740. reward: 100.000000\n",
      "iter 750. reward: 100.000000\n",
      "iter 760. reward: 100.000000\n",
      "iter 770. reward: 100.000000\n",
      "iter 780. reward: 100.000000\n",
      "iter 790. reward: 100.000000\n",
      "iter 800. reward: 100.000000\n",
      "iter 810. reward: 100.000000\n",
      "iter 820. reward: 100.000000\n",
      "iter 830. reward: 100.000000\n",
      "iter 840. reward: 100.000000\n",
      "iter 850. reward: 100.000000\n",
      "iter 860. reward: 100.000000\n"
     ]
    },
    {
     "ename": "KeyboardInterrupt",
     "evalue": "",
     "output_type": "error",
     "traceback": [
      "\u001b[0;31m---------------------------------------------------------------------------\u001b[0m",
      "\u001b[0;31mKeyboardInterrupt\u001b[0m                         Traceback (most recent call last)",
      "\u001b[0;32m<ipython-input-4-27e2b27ab360>\u001b[0m in \u001b[0;36m<module>\u001b[0;34m\u001b[0m\n\u001b[1;32m      3\u001b[0m \u001b[0;31m#  task is not computationally expensive and using more processes would decrease the performance due to the IPC overhead.\u001b[0m\u001b[0;34m\u001b[0m\u001b[0;34m\u001b[0m\u001b[0;34m\u001b[0m\u001b[0m\n\u001b[1;32m      4\u001b[0m \u001b[0mes\u001b[0m \u001b[0;34m=\u001b[0m \u001b[0mEvolutionStrategy\u001b[0m\u001b[0;34m(\u001b[0m\u001b[0mmodel\u001b[0m\u001b[0;34m.\u001b[0m\u001b[0mget_weights\u001b[0m\u001b[0;34m(\u001b[0m\u001b[0;34m)\u001b[0m\u001b[0;34m,\u001b[0m \u001b[0mevaluate_model\u001b[0m\u001b[0;34m,\u001b[0m \u001b[0mpopulation_size\u001b[0m\u001b[0;34m=\u001b[0m\u001b[0;36m20\u001b[0m\u001b[0;34m,\u001b[0m \u001b[0msigma\u001b[0m\u001b[0;34m=\u001b[0m\u001b[0;36m0.1\u001b[0m\u001b[0;34m,\u001b[0m \u001b[0mlearning_rate\u001b[0m\u001b[0;34m=\u001b[0m\u001b[0;36m0.03\u001b[0m\u001b[0;34m,\u001b[0m \u001b[0mdecay\u001b[0m\u001b[0;34m=\u001b[0m\u001b[0;36m0.995\u001b[0m\u001b[0;34m,\u001b[0m \u001b[0mnum_threads\u001b[0m\u001b[0;34m=\u001b[0m\u001b[0;36m1\u001b[0m\u001b[0;34m)\u001b[0m\u001b[0;34m\u001b[0m\u001b[0;34m\u001b[0m\u001b[0m\n\u001b[0;32m----> 5\u001b[0;31m \u001b[0mes\u001b[0m\u001b[0;34m.\u001b[0m\u001b[0mrun\u001b[0m\u001b[0;34m(\u001b[0m\u001b[0;36m1000\u001b[0m\u001b[0;34m,\u001b[0m \u001b[0mprint_step\u001b[0m\u001b[0;34m=\u001b[0m\u001b[0;36m10\u001b[0m\u001b[0;34m)\u001b[0m\u001b[0;34m\u001b[0m\u001b[0;34m\u001b[0m\u001b[0m\n\u001b[0m",
      "\u001b[0;32m~/side/walking_marvin/marvin_env/lib/python3.6/site-packages/evostra/algorithms/evolution_strategy.py\u001b[0m in \u001b[0;36mrun\u001b[0;34m(self, iterations, print_step)\u001b[0m\n\u001b[1;32m     71\u001b[0m \u001b[0;34m\u001b[0m\u001b[0m\n\u001b[1;32m     72\u001b[0m             \u001b[0mpopulation\u001b[0m \u001b[0;34m=\u001b[0m \u001b[0mself\u001b[0m\u001b[0;34m.\u001b[0m\u001b[0m_get_population\u001b[0m\u001b[0;34m(\u001b[0m\u001b[0;34m)\u001b[0m\u001b[0;34m\u001b[0m\u001b[0;34m\u001b[0m\u001b[0m\n\u001b[0;32m---> 73\u001b[0;31m             \u001b[0mrewards\u001b[0m \u001b[0;34m=\u001b[0m \u001b[0mself\u001b[0m\u001b[0;34m.\u001b[0m\u001b[0m_get_rewards\u001b[0m\u001b[0;34m(\u001b[0m\u001b[0mpool\u001b[0m\u001b[0;34m,\u001b[0m \u001b[0mpopulation\u001b[0m\u001b[0;34m)\u001b[0m\u001b[0;34m\u001b[0m\u001b[0;34m\u001b[0m\u001b[0m\n\u001b[0m\u001b[1;32m     74\u001b[0m \u001b[0;34m\u001b[0m\u001b[0m\n\u001b[1;32m     75\u001b[0m             \u001b[0mself\u001b[0m\u001b[0;34m.\u001b[0m\u001b[0m_update_weights\u001b[0m\u001b[0;34m(\u001b[0m\u001b[0mrewards\u001b[0m\u001b[0;34m,\u001b[0m \u001b[0mpopulation\u001b[0m\u001b[0;34m)\u001b[0m\u001b[0;34m\u001b[0m\u001b[0;34m\u001b[0m\u001b[0m\n",
      "\u001b[0;32m~/side/walking_marvin/marvin_env/lib/python3.6/site-packages/evostra/algorithms/evolution_strategy.py\u001b[0m in \u001b[0;36m_get_rewards\u001b[0;34m(self, pool, population)\u001b[0m\n\u001b[1;32m     51\u001b[0m             \u001b[0;32mfor\u001b[0m \u001b[0mp\u001b[0m \u001b[0;32min\u001b[0m \u001b[0mpopulation\u001b[0m\u001b[0;34m:\u001b[0m\u001b[0;34m\u001b[0m\u001b[0;34m\u001b[0m\u001b[0m\n\u001b[1;32m     52\u001b[0m                 \u001b[0mweights_try\u001b[0m \u001b[0;34m=\u001b[0m \u001b[0mself\u001b[0m\u001b[0;34m.\u001b[0m\u001b[0m_get_weights_try\u001b[0m\u001b[0;34m(\u001b[0m\u001b[0mself\u001b[0m\u001b[0;34m.\u001b[0m\u001b[0mweights\u001b[0m\u001b[0;34m,\u001b[0m \u001b[0mp\u001b[0m\u001b[0;34m)\u001b[0m\u001b[0;34m\u001b[0m\u001b[0;34m\u001b[0m\u001b[0m\n\u001b[0;32m---> 53\u001b[0;31m                 \u001b[0mrewards\u001b[0m\u001b[0;34m.\u001b[0m\u001b[0mappend\u001b[0m\u001b[0;34m(\u001b[0m\u001b[0mself\u001b[0m\u001b[0;34m.\u001b[0m\u001b[0mget_reward\u001b[0m\u001b[0;34m(\u001b[0m\u001b[0mweights_try\u001b[0m\u001b[0;34m)\u001b[0m\u001b[0;34m)\u001b[0m\u001b[0;34m\u001b[0m\u001b[0;34m\u001b[0m\u001b[0m\n\u001b[0m\u001b[1;32m     54\u001b[0m         \u001b[0mrewards\u001b[0m \u001b[0;34m=\u001b[0m \u001b[0mnp\u001b[0m\u001b[0;34m.\u001b[0m\u001b[0marray\u001b[0m\u001b[0;34m(\u001b[0m\u001b[0mrewards\u001b[0m\u001b[0;34m)\u001b[0m\u001b[0;34m\u001b[0m\u001b[0;34m\u001b[0m\u001b[0m\n\u001b[1;32m     55\u001b[0m         \u001b[0;32mreturn\u001b[0m \u001b[0mrewards\u001b[0m\u001b[0;34m\u001b[0m\u001b[0;34m\u001b[0m\u001b[0m\n",
      "\u001b[0;32m<ipython-input-2-b743373d973d>\u001b[0m in \u001b[0;36mevaluate_model\u001b[0;34m(weights, max_iter, verbose)\u001b[0m\n\u001b[1;32m     10\u001b[0m     \u001b[0mr_sum\u001b[0m \u001b[0;34m=\u001b[0m \u001b[0;36m0\u001b[0m\u001b[0;34m\u001b[0m\u001b[0;34m\u001b[0m\u001b[0m\n\u001b[1;32m     11\u001b[0m     \u001b[0;32mwhile\u001b[0m \u001b[0;32mnot\u001b[0m \u001b[0mdone\u001b[0m \u001b[0;32mand\u001b[0m \u001b[0mi\u001b[0m \u001b[0;34m<\u001b[0m \u001b[0mmax_iter\u001b[0m\u001b[0;34m:\u001b[0m\u001b[0;34m\u001b[0m\u001b[0;34m\u001b[0m\u001b[0m\n\u001b[0;32m---> 12\u001b[0;31m         \u001b[0mobservation\u001b[0m\u001b[0;34m,\u001b[0m \u001b[0mreward\u001b[0m\u001b[0;34m,\u001b[0m \u001b[0mdone\u001b[0m\u001b[0;34m,\u001b[0m \u001b[0m_\u001b[0m \u001b[0;34m=\u001b[0m \u001b[0menv\u001b[0m\u001b[0;34m.\u001b[0m\u001b[0mstep\u001b[0m\u001b[0;34m(\u001b[0m\u001b[0mint\u001b[0m\u001b[0;34m(\u001b[0m\u001b[0mmodel\u001b[0m\u001b[0;34m.\u001b[0m\u001b[0mpredict\u001b[0m\u001b[0;34m(\u001b[0m\u001b[0mobservation\u001b[0m\u001b[0;34m)\u001b[0m\u001b[0;34m[\u001b[0m\u001b[0;36m0\u001b[0m\u001b[0;34m]\u001b[0m \u001b[0;34m>\u001b[0m \u001b[0;36m.5\u001b[0m\u001b[0;34m)\u001b[0m\u001b[0;34m)\u001b[0m\u001b[0;34m\u001b[0m\u001b[0;34m\u001b[0m\u001b[0m\n\u001b[0m\u001b[1;32m     13\u001b[0m         \u001b[0mi\u001b[0m \u001b[0;34m+=\u001b[0m \u001b[0;36m1\u001b[0m\u001b[0;34m\u001b[0m\u001b[0;34m\u001b[0m\u001b[0m\n\u001b[1;32m     14\u001b[0m         \u001b[0mr_sum\u001b[0m \u001b[0;34m+=\u001b[0m \u001b[0mreward\u001b[0m\u001b[0;34m\u001b[0m\u001b[0;34m\u001b[0m\u001b[0m\n",
      "\u001b[0;31mKeyboardInterrupt\u001b[0m: "
     ]
    }
   ],
   "source": [
    "# if your task is computationally expensive, you can use num_threads > 1 to use multiple processes;\n",
    "# if you set num_threads=-1, it will use number of cores available on the machine; Here we use 1 process as the\n",
    "#  task is not computationally expensive and using more processes would decrease the performance due to the IPC overhead.\n",
    "es = EvolutionStrategy(model.get_weights(), evaluate_model, population_size=20, sigma=0.1, learning_rate=0.03, decay=0.995, num_threads=1)\n",
    "es.run(1000, print_step=10)"
   ]
  },
  {
   "cell_type": "code",
   "execution_count": null,
   "metadata": {},
   "outputs": [],
   "source": [
    "def render_env(model, env, max_iter=None, verbose=True):\n",
    "    observation = env.reset()\n",
    "    done = False\n",
    "    i = 0\n",
    "    r_sum = 0\n",
    "    while not done or (max_iter is not None and i < max_iter):\n",
    "        env.render()\n",
    "        observation, reward, done, _ = env.step(int(model.predict(observation)[0] > .5))\n",
    "        i += 1\n",
    "        r_sum += reward\n",
    "    if verbose:\n",
    "        print(f\"Episode end after {i} iterations with reward = {r_sum} and done status {done}\")"
   ]
  },
  {
   "cell_type": "code",
   "execution_count": null,
   "metadata": {},
   "outputs": [],
   "source": [
    "render_env(model, env)"
   ]
  }
 ],
 "metadata": {
  "kernelspec": {
   "display_name": "Python 3",
   "language": "python",
   "name": "python3"
  },
  "language_info": {
   "codemirror_mode": {
    "name": "ipython",
    "version": 3
   },
   "file_extension": ".py",
   "mimetype": "text/x-python",
   "name": "python",
   "nbconvert_exporter": "python",
   "pygments_lexer": "ipython3",
   "version": "3.6.8"
  }
 },
 "nbformat": 4,
 "nbformat_minor": 4
}
