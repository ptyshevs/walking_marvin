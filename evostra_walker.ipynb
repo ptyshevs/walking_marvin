{
 "cells": [
  {
   "cell_type": "code",
   "execution_count": 13,
   "metadata": {},
   "outputs": [],
   "source": [
    "import numpy as np\n",
    "from evostra import EvolutionStrategy\n",
    "from evostra.models import FeedForwardNetwork\n",
    "import gym\n",
    "env = gym.make('BipedalWalker-v2')\n",
    "# A feed forward neural network with input size of 5, two hidden layers of size 4 and output of size 3\n",
    "model = FeedForwardNetwork(layer_sizes=[24, 24, 4])"
   ]
  },
  {
   "cell_type": "code",
   "execution_count": 14,
   "metadata": {},
   "outputs": [],
   "source": [
    "def evaluate_model(weights, max_iter=1000, verbose=False):\n",
    "    global model, env\n",
    "    model.set_weights(weights)\n",
    "    observation = env.reset()\n",
    "    done = False\n",
    "    i = 0\n",
    "    r_sum = 0\n",
    "    while not done and i < max_iter:\n",
    "        observation, reward, done, _ = env.step(model.predict(observation))\n",
    "        i += 1\n",
    "        r_sum += reward\n",
    "    if verbose:\n",
    "        print(f\"Episode end after {i} iterations with reward = {r_sum} and done status {done}\")\n",
    "    return r_sum"
   ]
  },
  {
   "cell_type": "code",
   "execution_count": 22,
   "metadata": {},
   "outputs": [
    {
     "name": "stdout",
     "output_type": "stream",
     "text": [
      "iter 10. reward: 39.451833\n",
      "iter 20. reward: 11.499112\n",
      "iter 30. reward: 81.827902\n",
      "iter 40. reward: 87.108316\n",
      "iter 50. reward: 61.945428\n",
      "iter 60. reward: 103.783760\n",
      "iter 70. reward: 95.749895\n",
      "iter 80. reward: 91.983586\n",
      "iter 90. reward: 74.450997\n",
      "iter 100. reward: 82.053281\n"
     ]
    }
   ],
   "source": [
    "# if your task is computationally expensive, you can use num_threads > 1 to use multiple processes;\n",
    "# if you set num_threads=-1, it will use number of cores available on the machine; Here we use 1 process as the\n",
    "#  task is not computationally expensive and using more processes would decrease the performance due to the IPC overhead.\n",
    "es = EvolutionStrategy(model.get_weights(), evaluate_model, population_size=20, sigma=0.1, learning_rate=0.03, decay=0.995, num_threads=-1)\n",
    "es.run(100, print_step=10)"
   ]
  },
  {
   "cell_type": "code",
   "execution_count": 23,
   "metadata": {},
   "outputs": [],
   "source": [
    "def render_env(model, env, max_iter=None, verbose=True):\n",
    "    observation = env.reset()\n",
    "    done = False\n",
    "    i = 0\n",
    "    r_sum = 0\n",
    "    while not done or (max_iter is not None and i < max_iter):\n",
    "        env.render()\n",
    "        observation, reward, done, _ = env.step(model.predict(observation))\n",
    "        i += 1\n",
    "        r_sum += reward\n",
    "    if verbose:\n",
    "        print(f\"Episode end after {i} iterations with reward = {r_sum} and done status {done}\")"
   ]
  },
  {
   "cell_type": "code",
   "execution_count": 24,
   "metadata": {},
   "outputs": [
    {
     "name": "stdout",
     "output_type": "stream",
     "text": [
      "Episode end after 2121 iterations with reward = 178.83645594217964 and done status True\n"
     ]
    }
   ],
   "source": [
    "render_env(model, env)"
   ]
  }
 ],
 "metadata": {
  "kernelspec": {
   "display_name": "Python 3",
   "language": "python",
   "name": "python3"
  },
  "language_info": {
   "codemirror_mode": {
    "name": "ipython",
    "version": 3
   },
   "file_extension": ".py",
   "mimetype": "text/x-python",
   "name": "python",
   "nbconvert_exporter": "python",
   "pygments_lexer": "ipython3",
   "version": "3.6.8"
  }
 },
 "nbformat": 4,
 "nbformat_minor": 4
}
